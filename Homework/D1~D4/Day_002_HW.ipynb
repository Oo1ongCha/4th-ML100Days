{
 "cells": [
  {
   "cell_type": "markdown",
   "metadata": {},
   "source": [
    "## [作業目標]\n",
    "了解機器學習適合應用的領域與範疇。"
   ]
  },
  {
   "cell_type": "markdown",
   "metadata": {},
   "source": [
    "## [作業重點]\n",
    "透過瞭解機器學習的運作方式，找出非常適用機器學習應用的領域及其原因"
   ]
  },
  {
   "cell_type": "markdown",
   "metadata": {},
   "source": [
    "## 作業\n",
    "請找出一個你認為機器學習可以發光發熱的領域並闡述原因? "
   ]
  },
  {
   "cell_type": "code",
   "execution_count": null,
   "metadata": {},
   "outputs": [],
   "source": [
    "   學習如何抓交通違規。\n",
    "    高速公路上若沒有保持安全距離，一旦前方有狀況，後方的車輛來不及反應，便會追撞上去，尤其是大型車輛，一旦肇事常常造成重大傷亡。若能在交流\n",
    "    道附近設置智慧抓未依規定保持安全距離的車輛，相信重大傷亡的事故應該會降低不少。\n",
    "    還有內線道龜車，若無超車行為，佔據超車道，後方的快車無法超越，便需要變換車道，而變換車道次數越多，越容易出車禍，因此如果能讓超車道淨空\n",
    "    相信能夠更能舒緩車流。"
   ]
  }
 ],
 "metadata": {
  "kernelspec": {
   "display_name": "Python 3",
   "language": "python",
   "name": "python3"
  },
  "language_info": {
   "codemirror_mode": {
    "name": "ipython",
    "version": 3
   },
   "file_extension": ".py",
   "mimetype": "text/x-python",
   "name": "python",
   "nbconvert_exporter": "python",
   "pygments_lexer": "ipython3",
   "version": "3.7.4"
  }
 },
 "nbformat": 4,
 "nbformat_minor": 2
}
